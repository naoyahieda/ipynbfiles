{
  "nbformat": 4,
  "nbformat_minor": 0,
  "metadata": {
    "colab": {
      "name": "勉強会6/15.ipynb",
      "provenance": []
    },
    "kernelspec": {
      "name": "python3",
      "display_name": "Python 3"
    },
    "language_info": {
      "name": "python"
    }
  },
  "cells": [
    {
      "cell_type": "markdown",
      "metadata": {
        "id": "1pVAN5JS89Sr"
      },
      "source": [
        "# T/Tの勉強会6/15\n",
        "\n",
        "## 今日の勉強会の目次\n",
        "### GoogleMapAPIとは\n",
        "### Webで実装\n",
        "### WebGLとは\n",
        "### WebGLで実装\n",
        "\n",
        "## 今日の来客\n",
        "### 稗田"
      ]
    }
  ]
}